{
 "cells": [
  {
   "cell_type": "markdown",
   "id": "4ef0a454",
   "metadata": {},
   "source": [
    "# APS106 Lab0 Jupyter Notebook\n",
    "\n",
    "This file is a Jupyter Notebook. Notebooks allow us to mix text and code and interactively run code.\n",
    "Add your name between the quotation marks in the code cell below. Then experiment with running the two code cells.\n",
    "How does running the code in the Notebook differ from running the `lab0.py` file in VSCode?"
   ]
  },
  {
   "cell_type": "code",
   "execution_count": 4,
   "id": "55efac09",
   "metadata": {},
   "outputs": [],
   "source": [
    "## Print a welcome message to the user\n",
    "name = \"naomi\"  # TODO: Enter your name here\n",
    "welcome_msg = \"Hi \" + name + \", Welcome to APS106!\""
   ]
  },
  {
   "cell_type": "code",
   "execution_count": 6,
   "id": "05de322f",
   "metadata": {},
   "outputs": [
    {
     "name": "stdout",
     "output_type": "stream",
     "text": [
      "Hi naomi, Welcome to APS106!\n"
     ]
    }
   ],
   "source": [
    "print(welcome_msg)"
   ]
  }
 ],
 "metadata": {
  "kernelspec": {
   "display_name": "anaconda-panel-2023.05-py310",
   "language": "python",
   "name": "conda-env-anaconda-panel-2023.05-py310-py"
  },
  "language_info": {
   "codemirror_mode": {
    "name": "ipython",
    "version": 3
   },
   "file_extension": ".py",
   "mimetype": "text/x-python",
   "name": "python",
   "nbconvert_exporter": "python",
   "pygments_lexer": "ipython3",
   "version": "3.11.5"
  }
 },
 "nbformat": 4,
 "nbformat_minor": 5
}
