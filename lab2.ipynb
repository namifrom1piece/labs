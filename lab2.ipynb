{
 "cells": [
  {
   "cell_type": "markdown",
   "metadata": {},
   "source": [
    "# APS106 - Lab #2\n",
    "\n",
    "Welcome back to the APS106 labs. This week you will practice using conditional statements by writing a function to determine whether two rectangles overlap.\n",
    "\n",
    "## Lab Objectives\n",
    "* Design a function to make decisions using conditional statements\n",
    "* Practice writing and debugging if-statements and boolean expressions\n",
    "* Design a comprehensive set of test cases\n",
    "\n",
    "## Lab Deliverables\n",
    "The following files must be submitted to Gradescope prior to the assignment deadline\n",
    "* lab2.ipynb (this file)\n",
    "\n",
    "### Gradescope reminders\n",
    "Your assignment will be graded using 10 test cases on Gradescope. You will be able to see the results of all of these tests before the deadline.\n",
    "However, you will only be able to see the inputs of the first **five** test cases before the submission deadline. \n",
    "If you are not passing any of the test cases, there is an error (bug) in your submission that you will need to identify and correct. \n",
    "\n",
    "**IMPORTANT**: \n",
    "* Do not change the file name or function names\n",
    "* Do not use input() inside your program\n"
   ]
  },
  {
   "cell_type": "markdown",
   "metadata": {},
   "source": [
    "## Problem\n",
    "While developing solutions or new technologies, engineers are faced with balancing trade-offs in their design. For example, in designing a car, reducing the size could increase fuel efficiency but result in lower crash safety ratings. Computer scientists and software engineers typically need to balance the speed of their programs with the amount of memory they require to execute. One way to approach these trade-offs is to define some constraints and then optimize the design within those constraints. In our car design example, we could define a minimum safety rating and then design the car to maximize fuel efficiency while still meeting our minimum safety rating.\n",
    "\n",
    "In this week’s lab, you will be writing a function that will check whether a design meets a particular constraint. For our problem, we will imagine we are designing the layout of a wind farm and are trying to [identify where to place hundreds of turbines](https://www.sciencedirect.com/science/article/abs/pii/S0960148118303641). We want to optimize turbine placement to maximize energy generation while adhering to land use constraints. These constraints define areas where turbines cannot be placed. These constraints come from land rights, proximity to other turbines, and regulations regarding turbine proximity to human housing and natural habitats.\n",
    "\n",
    "<img src=\"images/wind_farm.jpg\" alt=\"drawing\" width=\"500\"/>\n",
    "\n",
    "You will write a function named `define_rectangle_overlap` which will analyze whether two rectangles overlap in two-dimensional space. In cases where the rectangles overlap, your function will determine and *return* the nature of the overlap (details below). In the context of our problem, these rectangles can be thought of as a restricted area and a proposed turbine site. The output of the function will tell us whether the proposed location meets the constraints.\n",
    "\n",
    "Each of the rectangles input to the function will be defined by **two points**: the bottom left corner and the top right corner (see figure 1).\n",
    "\n",
    "![](images/rectangle.png)\n",
    "\n",
    "Figure 1. A rectangle can be defined with two non-adjacent corners. In this case, we are given the bottom left and top right corners. Because the angles at each corner are 90°, the other two points can be calculated using the given points."
   ]
  },
  {
   "cell_type": "markdown",
   "metadata": {},
   "source": [
    "### Function Description\n",
    "The `define_rectangle_overlap` function will accept the following inputs:\n",
    "\n",
    "| **Input Parameter Name** | **Description**                                                                 |\n",
    "|-----------------------|-----------------------------------------------------------------------------|\n",
    "| `r1_tr_x`          | x-coordinate of the top-right corner of rectangle 1                       |\n",
    "| `r1_tr_y`          | y-coordinate of the top-right corner of rectangle 1                       |\n",
    "| `r1_bl_x`          | x-coordinate of the bottom-left corner of rectangle 1                     |\n",
    "| `r1_bl_y`          | y-coordinate of the bottom-left corner of rectangle 1                     |\n",
    "| `r2_tr_x`          | x-coordinate of the top-right corner of rectangle 2                       |\n",
    "| `r2_tr_y`          | y-coordinate of the top-right corner of rectangle 2                       |\n",
    "| `r2_bl_x`          | x-coordinate of the bottom-left corner of rectangle 2                     |\n",
    "| `r2_bl_y`          | y-coordinate of the bottom-left corner of rectangle 2                     |\n",
    "\n",
    "\n",
    "The function will output one of the **strings** defined below describing the overlap of the two rectangles:\n",
    "\n",
    "| Function Output                                | Scenario                                                                                   |\n",
    "|-----------------------------------------------|-------------------------------------------------------------------------------------------|\n",
    "| `\"no overlap\"`                                | The two rectangles do not have any overlapping area.                                      |\n",
    "| `\"identical coordinates\"`                     | The two rectangles have the same set of corner coordinates.                               |\n",
    "| `\"R1 is within R2\"` | Rectangle 1 is entirely contained within the area of rectangle 2 and they do not share identical coordinates. |\n",
    "| `\"R2 is within R1\"` | Rectangle 2 is entirely contained within the area of rectangle 1 and they do not share identical coordinates. |\n",
    "| `\"rectangles overlap\"`                        | The rectangles share some overlapping area, but neither is completely contained within the other. |\n",
    "\n",
    "**Additional notes and assumptions**:\n",
    "1. We define \"overlap\" as a non-zero area that is within both rectangles. This means rectangles can share common borders without overlapping.\n",
    "1. Rectangle coordinates will always be integer values.\n",
    "1. Rectangle coordinates may be within any of the four quadrants of the two-dimensional plane (x and y values may be zero, positive, or negative).\n",
    "1. You can assume the coordinates will define valid rectangles with non-zero area, e.g., `r1_tr_x > r1_bl_x` and `r1_tr_y > r1_bl_y`.\n",
    "\n",
    "### Visualization and sample test cases\n",
    "Each of these scenarios is presented below with a visual and sample inputs to help understanding. Note images are not to scale.\n",
    "\n",
    "| Scenario/Function Output                   | Visual Representation                                    | Function Input Parameters                                                                                                                                         |\n",
    "|--------------------------------------------|----------------------------------------------------------|------------------------------------------------------------------------------------------------------------------------------------------------------------------|\n",
    "| `\"no overlap\"`  | ![](images/no_overlap.png) | `r1_tr_x: 3`, `r1_tr_y: 5`, `r1_bl_x: -1`, `r1_bl_y: 1`<br> `r2_tr_x: 9`, `r2_tr_y: 2`, `r2_bl_x: 6`, `r2_bl_y: 0` |\n",
    "| `\"identical coordinates\"` | ![](images/identical.png)<br>*\\*R1 is hidden by R2, due to perfect overlap* | `r1_tr_x: 3`, `r1_tr_y: 4`, `r1_bl_x: -1`, `r1_bl_y: 0`<br>`r2_tr_x: 3`, `r2_tr_y: 4`, `r2_bl_x: -1`, `r2_bl_y: 0` |\n",
    "| `\"R1 within R2\"` | ![](images/r1_in_r2.png) | `r1_bl_x: 2`, `r1_bl_y: 1`, `r1_tr_x: 3`, `r1_tr_y: 2`<br>`r2_bl_x: 1`, `r2_bl_y: -5`, `r2_tr_x: 10`, `r2_tr_y: 6`                         |\n",
    "| `\"R2 within R1\"` | ![](images/r2_in_r1.png) | `r1_tr_x: 13`, `r1_tr_y: 20`, `r1_bl_x: 2`, `r1_bl_y: 1`<br> `r2_tr_x: 11`, `r2_tr_y: 6`, `r2_bl_x: 10`, `r2_bl_y: 2` |\n",
    "| `\"rectangles overlap\"` | ![](images/overlap.png) |  `r1_tr_x: 10`, `r1_tr_y: 20`, `r1_bl_x: 1`, `r1_bl_y: 1`<br>`r2_tr_x: 30`, `r2_tr_y: 33`, `r2_bl_x: 7`, `r2_bl_y: 18` |\n"
   ]
  },
  {
   "cell_type": "markdown",
   "metadata": {},
   "source": [
    "Time to design and write some code! Complete the function defined below."
   ]
  },
  {
   "cell_type": "code",
   "execution_count": 2,
   "metadata": {},
   "outputs": [],
   "source": [
    "def define_rectangle_overlap(\n",
    "    r1_tr_x, r1_tr_y,\n",
    "    r1_bl_x, r1_bl_y,\n",
    "    r2_tr_x, r2_tr_y,\n",
    "    r2_bl_x, r2_bl_y\n",
    "):\n",
    "    \"\"\"\n",
    "    (int,int,int,int,int,int,int,int) -> str\n",
    "    \n",
    "    Determines whether two rectangles overlap and categorizes the overlap\n",
    "    scenario.\n",
    "\n",
    "    Parameters\n",
    "    ----------\n",
    "    r1_tr_x : int\n",
    "        X-coordinate of the top-right corner of rectangle 1.\n",
    "    r1_tr_y : int\n",
    "        Y-coordinate of the top-right corner of rectangle 1.\n",
    "    r1_bl_x : int\n",
    "        X-coordinate of the bottom-left corner of rectangle 1.\n",
    "    r1_bl_y : int\n",
    "        Y-coordinate of the bottom-left corner of rectangle 1.\n",
    "    r2_tr_x : int\n",
    "        X-coordinate of the top-right corner of rectangle 2.\n",
    "    r2_tr_y : int\n",
    "        Y-coordinate of the top-right corner of rectangle 2.\n",
    "    r2_bl_x : int\n",
    "        X-coordinate of the bottom-left corner of rectangle 2.\n",
    "    r2_bl_y : int\n",
    "        Y-coordinate of the bottom-left corner of rectangle 2.\n",
    "\n",
    "    Returns\n",
    "    -------\n",
    "    str\n",
    "        A string indicating the type of overlap between the rectangles:\n",
    "        - \"no overlap\": The rectangles do not overlap.\n",
    "        - \"identical coordinates\": The rectangles share the same coordinates.\n",
    "        - \"R1 within R2\": Rectangle 1 is fully within rectangle 2.\n",
    "        - \"R2 within R1\": Rectangle 2 is fully within rectangle 1.\n",
    "        - \"rectangles overlap\": The rectangles overlap partially but neither is fully contained within the other.\n",
    "\n",
    "    Notes\n",
    "    -----\n",
    "    The inputs represent the x and y coordinates of the bottom-left (bl) \n",
    "    and top-right (tr) corners of the rectangles.\n",
    "\n",
    "    Examples\n",
    "    --------\n",
    "    >>> define_rectangle_overlap(3, 5, -1, 1, 9, 2, 6, 0)\n",
    "    'no overlap'\n",
    "\n",
    "    >>> define_rectangle_overlap(3, 4, -1, 0, 3, 4, -1, 0)\n",
    "    'identical coordinates'\n",
    "\n",
    "    >>> define_rectangle_overlap(3, 2, 2, 1, 10, 6, 1, -5)\n",
    "    'R1 within R2'\n",
    "\n",
    "    >>> define_rectangle_overlap(13, 20, 2, 1, 11, 6, 10, 2)\n",
    "    'R2 within R1'\n",
    "\n",
    "    >>> define_rectangle_overlap(10, 20, 1, 1, 30, 33, 7, 18)\n",
    "    'rectangles overlap'\n",
    "    \"\"\"\n",
    "    if r1_tr_x <= r2_bl_x or r1_tr_y <= r2_bl_y or r2_tr_x <= r1_bl_x and r2_tr_y <= r1_bl_y:\n",
    "        return (\"no overlap\")\n",
    "    \n",
    "    else:\n",
    "        if r1_tr_x == r2_tr_x and r1_bl_x == r2_bl_x and r1_tr_y == r2_tr_y and r1_bl_y == r2_bl_y:\n",
    "            return (\"identical coordinates\")\n",
    "        \n",
    "        elif r1_tr_x <= r2_tr_x and r1_bl_x >= r2_bl_x and r1_tr_y <= r2_tr_y and r1_bl_y >= r2_bl_y:\n",
    "            return (\"R1 within R2\")\n",
    "        \n",
    "        elif r2_tr_x <= r1_tr_x and r2_bl_x >= r1_bl_x and r2_tr_y <= r1_tr_y and r2_bl_y >= r1_bl_y:\n",
    "            return (\"R2 within R1\")\n",
    "        \n",
    "        else:\n",
    "            return (\"rectangles overlap\")\n",
    "    # To Do: Complete the function"
   ]
  },
  {
   "cell_type": "code",
   "execution_count": null,
   "metadata": {},
   "outputs": [],
   "source": []
  },
  {
   "cell_type": "markdown",
   "metadata": {},
   "source": [
    "## Testing and debugging\n",
    "Once you have completed the first attempt at your function, it's time to test and validate that it works correctly.\n",
    "Run the code below to try the basic test cases defined in the table above."
   ]
  },
  {
   "cell_type": "code",
   "execution_count": 3,
   "metadata": {},
   "outputs": [
    {
     "name": "stdout",
     "output_type": "stream",
     "text": [
      "Test 1: No overlap\n",
      "no overlap\n",
      "Test 2: Identical coordinates\n",
      "identical coordinates\n",
      "Test 3: R1 within R2\n",
      "R1 within R2\n",
      "Test 4: R2 within R1\n",
      "R2 within R1\n",
      "Test 5: Rectangles overlap\n",
      "rectangles overlap\n"
     ]
    }
   ],
   "source": [
    "# Test 1: No overlap\n",
    "print(\"Test 1: No overlap\")\n",
    "result = define_rectangle_overlap(3, 5, -1, 1, 9, 2, 6, 0)\n",
    "print(result) # Expected: 'no overlap'\n",
    "\n",
    "# Test 2: Identical coordinates\n",
    "print(\"Test 2: Identical coordinates\")\n",
    "result = define_rectangle_overlap(3, 4, -1, 0, 3, 4, -1, 0)\n",
    "print(result) # Expected: 'identical coordinates'\n",
    "\n",
    "# Test 3: R1 within R2\n",
    "print(\"Test 3: R1 within R2\")\n",
    "result = define_rectangle_overlap(3, 2, 2, 1, 10, 6, 1, -5)\n",
    "print(result) # Expected: 'R1 within R2'\n",
    "\n",
    "# Test 4: R2 within R1\n",
    "print(\"Test 4: R2 within R1\")\n",
    "result = define_rectangle_overlap(13, 20, 2, 1, 11, 6, 10, 2)\n",
    "print(result) # Expected: 'R2 within R1'\n",
    "\n",
    "# Test 5: Rectangles overlap\n",
    "print(\"Test 5: Rectangles overlap\")\n",
    "result = define_rectangle_overlap(10, 20, 1, 1, 30, 33, 7, 18)\n",
    "print(result) # Expected: 'rectangles overlap'"
   ]
  },
  {
   "cell_type": "markdown",
   "metadata": {},
   "source": [
    "If any of the above tests do not return the correct result, your function contains an error (bug). You need to debug your code to find and correct the error.\n",
    "Once your function returns the correct result in these test cases move on to the next section."
   ]
  },
  {
   "cell_type": "markdown",
   "metadata": {},
   "source": [
    "### Advanced testing and debugging: Edge cases\n",
    "Now that your function is passing the test cases above and returns a correct string for each of the possible scenarios, some people would be tempted to think that the code is correct and call it a day.\n",
    "Luckily, you're an engineer and know that it's your job to think more carefully about these things and know that there's still more testing to do to convince yourself that your code is correct.\n",
    "\n",
    "So what else can we test? We have already run one test for each of the 5 overlap cases, are there really any more scenarios that we haven't tested?\n",
    "Take another look at the visualizations of the test cases above, what is similar about them? Aside from the \"Identical coordinates\" example, none of our test cases include examples where the rectangles share a border.\n",
    "\n",
    "Consider the following example\n",
    "\n",
    "| Scenario/Function Output                   | Visual Representation                                    | Function Input Parameters                                                                                                                                         |\n",
    "|--------------------------------------------|----------------------------------------------------------|------------------------------------------------------------------------------------------------------------------------------------------------------------------|\n",
    "| `\"no overlap\"`  | ![](images/adjacent_rectangles.png) | `r1_tr_x: 3`, `r1_tr_y: 3`, `r1_bl_x: 0`, `r1_bl_y: 0`<br> `r2_tr_x: 9`, `r2_tr_y: 3`, `r2_bl_x: 3`, `r2_bl_y: -5` |\n",
    "\n",
    "In this case, the right border of R1 overlaps with a portion of the left border of R2 but the rectangles are not overlapping. In other words, the two rectangles are as close as possible to overlapping without actually have any overlapping area. If we were to move R1 one unit to the right or R2 to the left, we would transition into the `\"overlap\"` region. If we continued to move R1 three units to the right, we would cross from `\"overlap\"` into `\"R1 within R2\"`. \n",
    "\n",
    "These examples are called *edge or corner cases*. These test cases represent the inputs at the boundaries where functions change their output based on the input values. In this example, the edge cases are test cases where the rectangles have shared borders (literal *edge* cases =p). Going back to last week's electrostatic precipitator function, an edge case would be the precise time where the particle makes contact with the electrode (for time inputs before this point, the particle is still moving towards the electrode; at all times after this point, the particle will be in the same position). Edge cases are often the most difficult inputs for your code to handle and usually require extra thought and planning. This makes being able to identify edge cases a very valuable skill and one that you will develop (if you practice) throughout APS106.\n",
    "\n",
    "So let's practice! Test your code with the edge case below. Then try coming up and testing with a 3-4 of your own edge cases. Remember, you want to try design tests to represent different scenarios. Some things to consider:\n",
    "1. Do your edge cases represent a variety of overlap/output types?\n",
    "1. Are there additional complexities you can add to your edge case? (e.g., what if the rectangles share multiple borders?)\n"
   ]
  },
  {
   "cell_type": "code",
   "execution_count": 4,
   "metadata": {
    "scrolled": true
   },
   "outputs": [
    {
     "name": "stdout",
     "output_type": "stream",
     "text": [
      "Test 1: No overlap, one shared border\n",
      "no overlap\n"
     ]
    }
   ],
   "source": [
    "## Edge case testing\n",
    "\n",
    "# Test 1: No overlap, one shared border\n",
    "print(\"Test 1: No overlap, one shared border\")\n",
    "result = define_rectangle_overlap(3, 3, 0, 0, 9, 3, 3, -5)\n",
    "print(result) # Expected: 'no overlap'\n",
    "\n",
    "# To Do: Add more edge cases to test the function\n"
   ]
  }
 ],
 "metadata": {
  "kernelspec": {
   "display_name": "Python 3 (ipykernel)",
   "language": "python",
   "name": "python3"
  },
  "language_info": {
   "codemirror_mode": {
    "name": "ipython",
    "version": 3
   },
   "file_extension": ".py",
   "mimetype": "text/x-python",
   "name": "python",
   "nbconvert_exporter": "python",
   "pygments_lexer": "ipython3",
   "version": "3.11.6"
  }
 },
 "nbformat": 4,
 "nbformat_minor": 2
}
