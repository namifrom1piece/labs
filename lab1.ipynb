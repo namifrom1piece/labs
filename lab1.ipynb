{
 "cells": [
  {
   "cell_type": "markdown",
   "id": "4289afad",
   "metadata": {},
   "source": [
    "# APS106 - Lab 1\n",
    "\n",
    "## Part 1 - Cartesian to polar coordinate conversion\n",
    "For many problems in engineering and sciences, analysis can be simplified by converting between different coordinate systems. A common transformation is to convert 2-dimensional cartesian coordinates (x and y components) to polar coordinates (magnitude and phase angle). Fig 1 below illustrates how a vector can be defined using either coordinate system. Examples of situations where such transformations are commonly used include analysis of AC circuits, mechatronic control systems, ionic flow in fluids, and quantum mechanics.\n",
    "\n",
    "![Fig 1](images/cart2polar.jpg \"cartesian to polar\")\n",
    "\n",
    "Fig 1. Example of vector defined by both cartesian and polar coordinate systems where $r$ represents the magnitude and $\\phi$ represents the phase angle.\n",
    "\n",
    "The polar coordinates - magnitude $r$ and phase angle $\\phi$ - can be computed from the cartesian $x$ and $y$ coordinates using the following equations:\n",
    "$$\n",
    "r = \\sqrt{x^2 + y^2}\n",
    "$$\n",
    "$$\n",
    "\\phi = \\tan^{-1}{\\frac{y}{x}}\n",
    "$$\n",
    "\n",
    "In the following section, you will write functions that implement these equations and **return** polar coordinates given cartesian coordinates as parameters.\n",
    "\n",
    "### Part 1.1 - Compute vector magnitude\n",
    "Complete the function `magnitude` in the cell below. This function has two cartesian coordinate input **parameters** and **returns** the magnitude as defined using equation 1 above. Your function should return the result rounded to 3 decimal places. The table below defines the function inputs in greater detail.\n",
    "\n",
    "| Parameter | Type | Description |\n",
    "|-----------|------|-------------|\n",
    "| `x` | `float` | The $x$ component of a two-dimensional vector in cartesian coordinates |\n",
    "| `y` | `float` | The $y$ component of a two-dimensional vector in cartesian coordinates |"
   ]
  },
  {
   "cell_type": "code",
   "execution_count": 92,
   "id": "d4bd462e",
   "metadata": {},
   "outputs": [],
   "source": [
    "import math\n",
    "def magnitude(x, y):\n",
    "    \"\"\"\n",
    "    (float, float) -> float\n",
    "\n",
    "    Calculate and return the magnitude of the vector (x, y) rounded to 3 decimal places.\n",
    "\n",
    "    Parameters\n",
    "    ----------\n",
    "    x : float\n",
    "        The x-coordinate of the vector.\n",
    "    y : float\n",
    "        The y-coordinate of the vector.\n",
    "\n",
    "    Returns\n",
    "    -------\n",
    "    float\n",
    "        The magnitude of the vector (x, y).\n",
    "\n",
    "    Examples\n",
    "    --------\n",
    "    >>> magnitude(3.0, 4.0)\n",
    "    5.0\n",
    "    \"\"\"\n",
    "    magnitude = round(math.sqrt(x**2+y**2), 3)\n",
    "    return magnitude\n",
    "\n",
    "    # To Do: Implement the function"
   ]
  },
  {
   "cell_type": "markdown",
   "id": "c5675842",
   "metadata": {},
   "source": [
    "#### Testing your function\n",
    "Once you have written your function, you need to verify that it works correctly. Testing code involves generating sets of test inputs (called *test cases*), running the code with those inputs, and then verifying the outputs match the expected value. This week, we will walk you through some strategies for testing your functions. As we progress further into the semester and your programs become more complex, we will provide less explicit testing instructions and you will be responsible for testing your code. Developing good testing habits now will make you a better programmer and more efficient later in the course and in your career!\n",
    "\n",
    "#### First test\n",
    "Let's start with a simple test. Run the code in the cell below and check the result."
   ]
  },
  {
   "cell_type": "code",
   "execution_count": 93,
   "id": "14058fec",
   "metadata": {},
   "outputs": [
    {
     "name": "stdout",
     "output_type": "stream",
     "text": [
      "The function computed a magnitude of 5.0\n"
     ]
    }
   ],
   "source": [
    "## Run a simple test\n",
    "# Step 1: Define the input values\n",
    "x = 3.0\n",
    "y = 4.0\n",
    "# Step 2: Call the function and store the result in a variable\n",
    "r = magnitude(x, y)\n",
    "# Step 3: Print the result\n",
    "print(\"The function computed a magnitude of\", r)  # Expected output: 5.0"
   ]
  },
  {
   "cell_type": "markdown",
   "id": "848c0c07",
   "metadata": {},
   "source": [
    "#### It runs! =D ... or maybe it doesn't :/\n",
    "If your function runs without error, great! Getting your code to run without crashing is the first step of verifying your code is correct. If your code crashed (you got an error message), you will need to correct the errors and then try running the test again.\n",
    "\n",
    "#### The test runs without an error, now what?\n",
    "The next step in the testing and debugging process is to verify the value that our function returned is actually correct. Take the values we passed into the function (*the arguments*) and plug them into the equation from above. Does the value returned by your function match this value? If not, congrats you've found a bug in your function. Correct the mistake and then run your test again. \n",
    "\n",
    "#### OK, I get the right value... I'm done right?\n",
    "__Not yet!__ We have verified that our function works correctly in all possible *scenarios*. To understand what this means, let's consider an analogy. Imagine you're buying a mountain bike. You start shopping around and find a bike that has a great price. But after some research, you find that the company making the bike only tests their bike designs indoors on flat surfaces. So you have no idea how the bike will perform on a mountain trail! Would you trust and buy this bike? Best case the bike works fine but you might be nervous using it; worst case the bike falls apart, potentially injuring you or, at least, making you sad. You would be better off buying a bike that has been tested and evaluated for the conditions it is designed for.\n",
    "\n",
    "What does this have to do with my function?... right now, our function is like the bike. We've done one test and it worked (like testing the bike indoors), but we need to think about the other scenarios the function will also need to work (like the bike being used outdoors on a mountain) so it doesn't fail and make us sad. \n",
    "\n",
    "#### Coming up with different test case scenarios\n",
    "This doesn't mean choosing a bunch of random numbers and passing them to our function. Designing test cases is a core skill for any programmer (and is even a full time job for many engineers!). As your programs become more sophisticated later in the course, understanding how to effectively test your code will be very important and save you time and frustration. So practice and develop good habits around testing now and you will reap the rewards later on.\n",
    "\n",
    "Let's look at another test case example."
   ]
  },
  {
   "cell_type": "code",
   "execution_count": 94,
   "id": "dbd750fd",
   "metadata": {},
   "outputs": [
    {
     "name": "stdout",
     "output_type": "stream",
     "text": [
      "Test 2: The function computed a magnitude of  5.0\n"
     ]
    }
   ],
   "source": [
    "# Test 2 - Make x negative (coordinates in the 2nd quadrant)\n",
    "x = -3.0\n",
    "y = 4.0\n",
    "r = magnitude(x, y)\n",
    "print(\"Test 2: The function computed a magnitude of \", r)  # Expected output: 5.0"
   ]
  },
  {
   "cell_type": "markdown",
   "id": "c5253088",
   "metadata": {},
   "source": [
    "Hopefully, your function still returns `5.0` for this test case. Even though we expect the same result from the function, we have diversified our test cases to include a negative value and increased our confidence that our function will work correctly for a wider range of inputs. Let's expand this even further with a more test cases."
   ]
  },
  {
   "cell_type": "code",
   "execution_count": 95,
   "id": "b124f09c",
   "metadata": {},
   "outputs": [
    {
     "name": "stdout",
     "output_type": "stream",
     "text": [
      "Test 3: The function computed a magnitude of  1.414\n",
      "Test 4: The function computed a magnitude of  10.198\n",
      "Test 5: The function computed a magnitude of  5.5\n",
      "Test 6: The function computed a magnitude of  7.15\n",
      "Test 7: The function computed a magnitude of  0.0\n"
     ]
    }
   ],
   "source": [
    "## Test 3 - Coordinate in 3rd quadrant\n",
    "x = -1.0\n",
    "y = -1.0\n",
    "r = magnitude(x, y)\n",
    "print(\"Test 3: The function computed a magnitude of \", r)  # Expected output: 1.414\n",
    "\n",
    "## Test 4 - Coordinate in 4th quadrant\n",
    "x = 2.0\n",
    "y = -10.0\n",
    "r = magnitude(x, y)\n",
    "print(\"Test 4: The function computed a magnitude of \", r)  # Expected output: 10.198\n",
    "\n",
    "## Test 5 - Coordinate on the x-axis\n",
    "x = 5.5\n",
    "y = 0.0\n",
    "r = magnitude(x, y)\n",
    "print(\"Test 5: The function computed a magnitude of \", r)  # Expected output: 5.5\n",
    "\n",
    "## Test 6 - Coordinate on the y-axis\n",
    "x = 0.0\n",
    "y = -7.15\n",
    "r = magnitude(x, y)\n",
    "print(\"Test 6: The function computed a magnitude of \", r)  # Expected output: 7.15\n",
    "\n",
    "# Test 7 - Origin\n",
    "x = 0.0\n",
    "y = 0.0\n",
    "r = magnitude(x, y)\n",
    "print(\"Test 7: The function computed a magnitude of \", r)  # Expected output: 0.0"
   ]
  },
  {
   "cell_type": "markdown",
   "id": "17db246c",
   "metadata": {},
   "source": [
    "Notice how each of these tests represents a different input scenario (i.e., different coordinate quadrant, borders between quadrants, zero vector, etc.). Once your function returns the correct results for each of these test cases, you should have a reasonable degree of confidence that your fuction is correct and can move on to the next part.\n",
    "\n",
    "### Part 2.2 - Compute the vector phase angle\n",
    "Complete the `phase` function which computes and **returns** the phase angle of the vector in **radians** as defined in equation 2. The function uses the same input parameters as the `magntiude` function.\n",
    "\n",
    "To complete this function, you will need to utilize the inverse tangent (arctangent) function from the `math` module. The documentation for the available trionometric functions can be found at the following link: https://docs.python.org/3/library/math.html#trigonometric-functions. You will notice that there are two different inverse tangent functions available within the `math` module: `atan` and `atan2`. Your function should use the function that will return an angle within the correct quadrant. Read the descriptions to select the appropriate function, then use the test cases below to verify that you made the correct selection. This is the beauty of designing and using test cases: you can always check and know whether your solution is correct by running your own code :)."
   ]
  },
  {
   "cell_type": "code",
   "execution_count": 88,
   "id": "ac946b58",
   "metadata": {},
   "outputs": [],
   "source": [
    "import math \n",
    "\n",
    "def phase(x, y):\n",
    "    \"\"\"\n",
    "    (float, float) -> float\n",
    "\n",
    "    Calculate and return the phase of the vector (x, y) in radians rounded to 3 decimal places.\n",
    "\n",
    "    Parameters\n",
    "    ----------\n",
    "    x : float\n",
    "        The x-coordinate of the vector.\n",
    "    y : float\n",
    "        The y-coordinate of the vector.\n",
    "\n",
    "    Returns\n",
    "    -------\n",
    "    float\n",
    "        The phase of the vector (x, y) in degrees.\n",
    "\n",
    "    Examples\n",
    "    --------\n",
    "    >>> phase(3.0, 4.0)\n",
    "    0.927\n",
    "    \"\"\"\n",
    "    phase = round(math.atan2(y, x), 3)\n",
    "    return phase\n",
    "    # To Do: Implement the function"
   ]
  },
  {
   "cell_type": "code",
   "execution_count": 89,
   "id": "b6fab37d",
   "metadata": {},
   "outputs": [
    {
     "name": "stdout",
     "output_type": "stream",
     "text": [
      "Test 1: The function computed a phase of  0.927\n",
      "Test 2: The function computed a phase of  2.214\n",
      "Test 3: The function computed a phase of  -2.356\n",
      "Test 4: The function computed a phase of  -1.373\n",
      "Test 5: The function computed a phase of  0.0\n",
      "Test 6: The function computed a phase of  -1.571\n",
      "Test 7: The function computed a phase of  0.0\n"
     ]
    }
   ],
   "source": [
    "# Test the function with the same test cases as the magnitude function\n",
    "# Test 1 - Quadrant 1\n",
    "x = 3.0\n",
    "y = 4.0\n",
    "r = round(phase(x, y), 3)\n",
    "print(\"Test 1: The function computed a phase of \", r)  # Expected output: 0.927\n",
    "\n",
    "# Test 2 - Quadrant 2\n",
    "x = -3.0\n",
    "y = 4.0\n",
    "r = round(phase(x, y), 3)\n",
    "print(\"Test 2: The function computed a phase of \", r)  # Expected output: 2.214\n",
    "\n",
    "# Test 3 - Quadrant 3\n",
    "x = -1.0\n",
    "y = -1.0\n",
    "r = round(phase(x, y), 3)\n",
    "print(\"Test 3: The function computed a phase of \", r)  # Expected output: -2.356\n",
    "\n",
    "# Test 4 - Quadrant 4\n",
    "x = 2.0\n",
    "y = -10.0\n",
    "r = round(phase(x, y), 3)\n",
    "print(\"Test 4: The function computed a phase of \", r)  # Expected output: -1.373\n",
    "\n",
    "# Test 5 - x-axis\n",
    "x = 5.5\n",
    "y = 0.0\n",
    "r = round(phase(x, y), 3)\n",
    "print(\"Test 5: The function computed a phase of \", r)  # Expected output: 0.0\n",
    "\n",
    "# Test 6 - y-axis\n",
    "x = 0.0\n",
    "y = -7.15\n",
    "r = round(phase(x, y), 3)\n",
    "print(\"Test 6: The function computed a phase of \", r)  # Expected output: -1.571\n",
    "\n",
    "# Test 7 - Origin\n",
    "x = 0.0\n",
    "y = 0.0\n",
    "r = round(phase(x, y), 3)\n",
    "print(\"Test 7: The function computed a phase of \", r)  # Expected output: 0.0"
   ]
  },
  {
   "cell_type": "markdown",
   "id": "a89d26ff",
   "metadata": {},
   "source": [
    "## Part 2 - Computing the position of a particle within an electrostatic precipitator\n",
    "\n",
    "An electrostatic precipitator is a device that is typically used to capture and remove harmful particles from the exhaust of industrial and/or chemical processes. The device works in two stages:\n",
    "1. Particles in the exhaust are charged (either positively or negatively) \n",
    "2. The particles pass through an air channel where high voltage electrodes attract the charged particles (see figure 1 below). The electrodes create an electric field that exerts a coulomb force on charged particles. The particles move towards the electrodes and get stuck to the electrodes, thus preventing the harmful particles from exiting with the exhaust.\n",
    "\n",
    "Here, you will write a function to compute the vertical position of a particle as it passes through the precipitator and then design some test cases to verify that your function works correctly.\n",
    "\n",
    "![Fig 2](images/esp.png \"Title\")\n",
    "\n",
    "Fig 2. Example of charged particle movement between high voltage electrodes. Particles enter through the opening on the left and are attracted to the oppositely charged electrode. In this example, a positively charged particle enters in the middle of the two electrodes and is accelerated towards the negatively charged electrode by the coulomb force, Fc. When the particle reaches the electrode, it sticks to the surface and stop moving.\n",
    "\n",
    "If we assume this force is constant, the vertical position of the particle can be approximated using the following equation:\n",
    "$$\n",
    "p(t) = -\\frac{1}{20000} \\cdot \\frac{qE}{m} t^2 + p_{\\text{init}}\n",
    "$$\n",
    "\n",
    "\n",
    "| Variable     | Description                                           | Units                         |\n",
    "|--------------|-------------------------------------------------------|-------------------------------|\n",
    "| $q$          | Particle charge                                       | Nanocoulombs (nC)             |\n",
    "| $E$          | Electric field strength between the electrodes        | Kilonewtons per coulomb (kN/C)|\n",
    "| $m$          | Mass of the particle                                  | Nanograms (ng)                |\n",
    "| $t$          | Time since the particle entered the air channel       | Microseconds (µs)             |\n",
    "| $p_{\\text{init}}$ | Initial vertical position of the particle      | Centimetres (cm)              |\n",
    "| $p(t)$       | Vertical position of the particle at time `t`       | Centimetres (cm)              |\n",
    "\n",
    "---\n"
   ]
  },
  {
   "cell_type": "markdown",
   "id": "e8611ef3",
   "metadata": {},
   "source": [
    "## Programming task\n",
    "In the next cell, complete the function `compute_particle_height`. The function should calculate and *return* the vertical position of a particle within the electrostatic precipitator. The function accepts five input parameters:\n",
    "\n",
    "- `q` – The charge of the particle in nanocoulombs\n",
    "- `E` – The electric field strength in kilonewtons per coulomb\n",
    "- `m` – The mass of the particle in nanograms\n",
    "- `L` – The distance between the two electrodes in centimetres\n",
    "- `t` – The time since the particle entered the air channel in microseconds\n",
    "\n",
    "### Assumptions:\n",
    "- The botton electrode is at position 0 cm and the top electrode is at position `L` cm. `L` will always be greater than zero.\n",
    "- The bottom electrode will be negatively charged and the top will be positvely charged.\n",
    "- Particles enter the channel halfway between the two plates (i.e., $p_{\\text{init}} = L/2$ cm).\n",
    "- Particles have zero vertical velocity when entering the air channel.\n",
    "- __Particles immediately stop moving when contacting one of the electrodes.__\n",
    "- All other forces (gravity, drag, etc.) are negligible.\n",
    "\n",
    "Your function should round the result to **3 decimal places**.\n",
    "\n",
    "**Hint**: This problem is designed to be solved without the use of conditional (if) statements (we'll get to those in a couple of weeks). Instead, for this lab, you may find the built-in Python functions `max` and `min` helpful. Try running\n",
    "`help(min)` and \n",
    "`help(max)`\n",
    "in the cell below to find out more about these functions.\n"
   ]
  },
  {
   "cell_type": "code",
   "execution_count": 82,
   "id": "c810cc6f",
   "metadata": {},
   "outputs": [],
   "source": [
    "def compute_particle_height(q,E,m,t,L):\n",
    "    \"\"\"\n",
    "    (float, float, float, float, float) -> float\n",
    "    \n",
    "    Calculate the vertical height of a charged particle within an electrostatic precipitator.\n",
    "\n",
    "    Parameters\n",
    "    ----------\n",
    "    q : float\n",
    "        Charge of the particle in nanocoulombs (nC).\n",
    "    E : float\n",
    "        Electric field strength in kilonewtons per coulomb (kN/C).\n",
    "    m : float\n",
    "        Mass of the particle in nanograms (ng).\n",
    "    t : float\n",
    "        Time since the particle entered the precipitator in microseconds (µs).\n",
    "    L : float\n",
    "        Distance between the parallel plate electrodes in centimetres (cm).\n",
    "\n",
    "    Returns\n",
    "    -------\n",
    "    float\n",
    "        The height of the particle in centimetres (cm).\n",
    "\n",
    "    Examples\n",
    "    --------\n",
    "    >>> compute_particle_height(0, 150, 9.2, 3.6, 5.0)\n",
    "    2.5\n",
    "\n",
    "    >>> compute_particle_height(2.3, 150, 9.2, 26.8, 5.0)\n",
    "    1.153\n",
    "\n",
    "    >>> compute_particle_height(-2.3, 160, 9.2, 36.8, 5.0)\n",
    "    5.0\n",
    "    \"\"\"\n",
    "    compute_particle_height = (-1/20000) * (q*E/m) * (t**2) + L/2\n",
    "    compute_particle_height = (q != 0) * max(0.0, min(L, compute_particle_height)) + (q == 0) * L/2\n",
    "    \n",
    "    return round(compute_particle_height, 3)\n",
    "\n",
    "    # To Do: Implement the function"
   ]
  },
  {
   "cell_type": "markdown",
   "id": "83dedf19",
   "metadata": {},
   "source": [
    "## Testing your function\n",
    "As before, you will need to test your function to verify its correctness. Let's start with a simple test."
   ]
  },
  {
   "cell_type": "code",
   "execution_count": 83,
   "id": "7a7d5e59",
   "metadata": {},
   "outputs": [
    {
     "name": "stdout",
     "output_type": "stream",
     "text": [
      "The function returned:  1.153\n"
     ]
    }
   ],
   "source": [
    "## Run a simple test\n",
    "# step 1: execute the function and assign the return value to a variable\n",
    "particle_position = compute_particle_height(2.3, 150, 9.2, 26.8, 5.0)\n",
    "# step 2: display the result\n",
    "print(\"The function returned: \", particle_position)"
   ]
  },
  {
   "cell_type": "markdown",
   "id": "2daaff0d",
   "metadata": {},
   "source": [
    "#### It runs! =D ... or maybe it doesn't :/\n",
    "If your code crashed (you got an error message), you will need to correct the errors and then try running the test again.\n",
    "\n",
    "Once your function runs without error and returns the correct value, we can move on to designing more test cases."
   ]
  },
  {
   "cell_type": "code",
   "execution_count": 84,
   "id": "9cd0db70",
   "metadata": {},
   "outputs": [
    {
     "name": "stdout",
     "output_type": "stream",
     "text": [
      "The function returned:  1.827\n"
     ]
    }
   ],
   "source": [
    "## Test #2 - Larger particle\n",
    "# Double the mass of the particle\n",
    "# step 1: execute the function and assign the return value to a variable\n",
    "particle_position = compute_particle_height(2.3, 150, 18.4, 26.8, 5.0)\n",
    "# step 2: display the result\n",
    "print(\"The function returned: \", (round(particle_position,3)))"
   ]
  },
  {
   "cell_type": "markdown",
   "id": "956b7080",
   "metadata": {},
   "source": [
    "Hopefully, your function returns `1.827`. You can verify that is the correct value by plugging the values into the equation above. If your function is returning the correct value, great! But should we feel more confident that our function is correct? Unfortunately, not really. Even though we changed the input and got a different result, all we're testing is whether our function implemented the equation correctly. We have not tested the other components of our function. Let's look at another example to understand what we mean. This time, let's increase the time parameter significantly to `260.8`."
   ]
  },
  {
   "cell_type": "code",
   "execution_count": 85,
   "id": "77a24bf3",
   "metadata": {},
   "outputs": [
    {
     "name": "stdout",
     "output_type": "stream",
     "text": [
      "0.0\n"
     ]
    }
   ],
   "source": [
    "## Test #2 - Larger particle\n",
    "# Increase the time\n",
    "# step 1: execute the function and assign the return value to a variable\n",
    "particle_position = compute_particle_height(2.3, 150, 18.4, 260.8, 5.0)\n",
    "# step 2: display the result\n",
    "print(particle_position)"
   ]
  },
  {
   "cell_type": "markdown",
   "id": "b2d1ca4c",
   "metadata": {},
   "source": [
    "If we plug this into our equation we get:\n",
    "$$\n",
    "p(t) = -\\frac{1}{20000} \\cdot \\frac{qE}{m} t^2 + p_{\\text{init}} = -\\frac{1}{20000} \\cdot \\frac{2.3\\cdot150}{18.4}\\cdot260.8^2 + 2.5 = -61.266\n",
    "$$\n",
    "\n",
    "But, one of the assumptions for our function was: \"__Particles immediately stop moving when contacting one of the electrodes__\". This means that our positive particle from this test stops moving when it hits the bottom electrode and the height cannot be lower than zero. So, the value returned by our function should be `0.0` and not `-61.266`.\n",
    "\n",
    "This test case represents a different scenario because, unlike before, the output is not simply the result of plugging values into our equation. Instead, it repesents a scenario where the particle hits one of the boundaries. Identifying these different scenarios is the key to effectively testing your code.\n",
    "\n",
    "#### Other scenarios\n",
    "Some other scenarios that we could consider for this function include:\n",
    " - The charge of the particle (does the particle move towards the top boundary when a negative charge is passed to the function? what if the particle has zero charge?)\n",
    " - Does the function return the correct height when the particle makes contact with the top electrode?\n",
    " \n",
    " \n",
    "Now design some of your own test cases, and try them out in the cell below."
   ]
  },
  {
   "cell_type": "code",
   "execution_count": 86,
   "id": "12de3253",
   "metadata": {},
   "outputs": [
    {
     "name": "stdout",
     "output_type": "stream",
     "text": [
      "2.0\n",
      "1.0\n"
     ]
    }
   ],
   "source": [
    "# negatively charged particle\n",
    "particle_position_negative = compute_particle_height(-1.0, 100, 23.1, 92, 2.0) #negative charge particle\n",
    "print(particle_position_negative) \n",
    "\n",
    "# particle has zero charge\n",
    "particle_position_zero = compute_particle_height(0.0, 100, 23.1, 92, 2.0)\n",
    "print(particle_position_zero)\n",
    "# if the particle has zero charge, then the particles position will just be 1/2L aka p_int"
   ]
  },
  {
   "cell_type": "markdown",
   "id": "06276dc5",
   "metadata": {},
   "source": [
    "Once you have thoroughly tested your code, submit this notebook to Gradescope."
   ]
  }
 ],
 "metadata": {
  "kernelspec": {
   "display_name": "Python 3 (ipykernel)",
   "language": "python",
   "name": "python3"
  },
  "language_info": {
   "codemirror_mode": {
    "name": "ipython",
    "version": 3
   },
   "file_extension": ".py",
   "mimetype": "text/x-python",
   "name": "python",
   "nbconvert_exporter": "python",
   "pygments_lexer": "ipython3",
   "version": "3.11.6"
  }
 },
 "nbformat": 4,
 "nbformat_minor": 5
}
